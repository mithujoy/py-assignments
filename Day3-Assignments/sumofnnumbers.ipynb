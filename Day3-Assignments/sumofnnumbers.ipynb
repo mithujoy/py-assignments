{
  "nbformat": 4,
  "nbformat_minor": 0,
  "metadata": {
    "colab": {
      "name": "sumofnnumbers .ipynb",
      "provenance": [],
      "collapsed_sections": []
    },
    "kernelspec": {
      "name": "python3",
      "display_name": "Python 3"
    }
  },
  "cells": [
    {
      "cell_type": "code",
      "metadata": {
        "id": "Z8weN3XOwiTx",
        "colab_type": "code",
        "colab": {
          "base_uri": "https://localhost:8080/",
          "height": 34
        },
        "outputId": "74eaba10-4fcb-4dbd-a28c-44f0a6f1ad06"
      },
      "source": [
        "num = 100\n",
        "sum = 0 \n",
        "n = num\n",
        "while num > 0:\n",
        "    sum = sum + num\n",
        "    num = num - 1;\n",
        "    # displaying output\n",
        "print(\"Sum of first\", n, \"numbers is: \", sum)"
      ],
      "execution_count": 8,
      "outputs": [
        {
          "output_type": "stream",
          "text": [
            "Sum of first 100 numbers is:  5050\n"
          ],
          "name": "stdout"
        }
      ]
    }
  ]
}